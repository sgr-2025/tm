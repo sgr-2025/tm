{
 "cells": [
  {
   "cell_type": "markdown",
   "metadata": {
    "slideshow": {
     "slide_type": "slide"
    }
   },
   "source": [
    "# Technical Introduction to AI in Industry\n",
    "\n",
    "Applications of Artificial Intelligence"
   ]
  },
  {
   "cell_type": "markdown",
   "metadata": {
    "slideshow": {
     "slide_type": "subslide"
    }
   },
   "source": [
    "## About the Teacher\n",
    "\n",
    "**Here's some information on the teacher for the 2nd part of the course**\n",
    "\n",
    "* name: Michele Lombardi\n",
    "* email: [michele.lombardi2@unibo.it](mailto:michele.lombardi2@unibo.it)\n",
    "* You also book a Teams call via this booking page:\n",
    "\n",
    "<center>\n",
    "<img src=\"assets/office_hours.png\" width=25%>\n",
    "<a href=\"https://book.morgen.so/michelelombardi03/student-hours\">https://book.morgen.so/michelelombardi03/student-hours</a>\n",
    "</center>"
   ]
  },
  {
   "cell_type": "markdown",
   "metadata": {
    "slideshow": {
     "slide_type": "subslide"
    }
   },
   "source": [
    "<center>\n",
    "<span style=\"font-size:1.5em\"><br><br>This lecture material is available at:</span>\n",
    "<img src=\"assets/qr_code.png\" width=25%>\n",
    "<span style=\"font-size:1.5em\"><a href=\"https://github.com/COURSE\">https://github.com/COURSE</a></span>\n",
    "</center>"
   ]
  },
  {
   "cell_type": "markdown",
   "metadata": {
    "slideshow": {
     "slide_type": "subslide"
    }
   },
   "source": [
    "<div class=big>\n",
    "<small>Let's start with a question:</small><br>\n",
    "First, what do we mean by AI?\n",
    "</div>"
   ]
  },
  {
   "cell_type": "markdown",
   "metadata": {
    "slideshow": {
     "slide_type": "subslide"
    }
   },
   "source": [
    "## What is Artificial Intelligence?\n",
    "\n",
    "**This is what ChatGPT says about it**\n",
    "\n",
    "<center><img src=\"assets/what_is_ai.png\" width=\"70%\"/></center>"
   ]
  },
  {
   "cell_type": "markdown",
   "metadata": {
    "slideshow": {
     "slide_type": "-"
    }
   },
   "source": [
    "* All true, though, though a bit too centered on OpenAI perspective\n",
    "* ...And not so useful in practice"
   ]
  },
  {
   "cell_type": "markdown",
   "metadata": {
    "slideshow": {
     "slide_type": "subslide"
    }
   },
   "source": [
    "## What is Artificial Intelligence?\n",
    "\n",
    "**This is from [wikipedia](https://en.wikipedia.org/wiki/Artificial_intelligence):**\n",
    "\n",
    "> Artificial intelligence (AI), in its broadest sense, is intelligence exhibited by machines, particularly computer systems.\n",
    "\n",
    "* Even more vague\n",
    "* ...Though the article becomes much more precise later on"
   ]
  },
  {
   "cell_type": "markdown",
   "metadata": {
    "slideshow": {
     "slide_type": "fragment"
    }
   },
   "source": [
    "* There are actually multiple, slightly different definitions\n",
    "* ...Which we ultimately care little about here\n",
    "\n",
    "We'll take a _practical perspective instead_\n",
    "\n",
    "> **So, let's start from a few high-profile things we can _do_ with AI**"
   ]
  },
  {
   "cell_type": "markdown",
   "metadata": {
    "slideshow": {
     "slide_type": "subslide"
    }
   },
   "source": [
    "## Things We Can Do with AI\n",
    "\n",
    "**We can recognize objects in a picture**\n",
    "\n",
    "<center><img src=\"assets/recognition.jpg\" width=\"800px\"/></center>"
   ]
  },
  {
   "cell_type": "markdown",
   "metadata": {
    "slideshow": {
     "slide_type": "subslide"
    }
   },
   "source": [
    "## Things We Can Do with AI\n",
    "\n",
    "**We can identify areas in a picture**\n",
    "\n",
    "<center><img src=\"assets/segmentation.jpg\" width=\"800px\"/></center>"
   ]
  },
  {
   "cell_type": "markdown",
   "metadata": {
    "slideshow": {
     "slide_type": "subslide"
    }
   },
   "source": [
    "## Things We Can Do with AI\n",
    "\n",
    "**We can drive a car**\n",
    "\n",
    "<center><img src=\"assets/waymo.jpg\" width=\"70%\"/></center>"
   ]
  },
  {
   "cell_type": "markdown",
   "metadata": {
    "slideshow": {
     "slide_type": "subslide"
    }
   },
   "source": [
    "## Things We Can Do with AI\n",
    "\n",
    "**We can translate text**\n",
    "\n",
    "<center><img src=\"assets/translate.png\" width=\"80%\"/></center>"
   ]
  },
  {
   "cell_type": "markdown",
   "metadata": {
    "slideshow": {
     "slide_type": "subslide"
    }
   },
   "source": [
    "## Things We Can Do with AI\n",
    "\n",
    "**We can compete at games with master players**\n",
    "\n",
    "<center><img src=\"assets/go.jpg\" width=\"80%\"/></center>"
   ]
  },
  {
   "cell_type": "markdown",
   "metadata": {
    "slideshow": {
     "slide_type": "subslide"
    }
   },
   "source": [
    "## Things We Can Do with AI\n",
    "\n",
    "**We can understand the structure of proteins**\n",
    "\n",
    "<center><img src=\"assets/protein_folding.jpeg\" width=\"80%\"/></center>"
   ]
  },
  {
   "cell_type": "markdown",
   "metadata": {
    "slideshow": {
     "slide_type": "subslide"
    }
   },
   "source": [
    "## Things We Can Do with AI\n",
    "\n",
    "**We can save lives**\n",
    "\n",
    "<center><img src=\"assets/watson_saved.png\" width=\"60%\"/></center>"
   ]
  },
  {
   "cell_type": "markdown",
   "metadata": {
    "slideshow": {
     "slide_type": "subslide"
    }
   },
   "source": [
    "## What is Artificial Intelligence\n",
    "\n",
    "**We'll view AI as a field concerned with the construction of _models_**\n",
    "\n",
    "Models are abstract artefacts and can be:\n",
    "\n",
    "* Descriptive\n",
    "* Predictive\n",
    "* Decisional\n",
    "* Generative"
   ]
  },
  {
   "cell_type": "markdown",
   "metadata": {},
   "source": [
    "**Models are essentially _tools_**\n",
    "\n",
    "* It's up to us to build and use them correctly and ethically\n",
    "* However, doing that is not always easy\n",
    "\n",
    "To a large extent, this is problem of expectations and transparency"
   ]
  },
  {
   "cell_type": "markdown",
   "metadata": {
    "slideshow": {
     "slide_type": "subslide"
    }
   },
   "source": [
    "## Inside AI\n",
    "\n",
    "**Some notable subfields within AI:**\n",
    "\n",
    "* Learning\n",
    "* Natural Language Processing\n",
    "* Computer Vision\n",
    "* Automated Reasoning\n",
    "* Automated Planning"
   ]
  },
  {
   "cell_type": "markdown",
   "metadata": {},
   "source": [
    "**Some related disciplines**\n",
    "\n",
    "* Computer Science\n",
    "* Mathematics and statistics\n",
    "* Phylosophy"
   ]
  },
  {
   "cell_type": "markdown",
   "metadata": {
    "slideshow": {
     "slide_type": "subslide"
    }
   },
   "source": [
    "<div class=big>\n",
    "<small>Time for a few more questions:</small><br>\n",
    "What do we mean by \"industry\"?<br>\n",
    "...And what can AI for an industrial process?\n",
    "</div>"
   ]
  },
  {
   "cell_type": "markdown",
   "metadata": {
    "slideshow": {
     "slide_type": "subslide"
    }
   },
   "source": [
    "## Industry\n",
    "\n",
    "**This is industry**\n",
    "\n",
    "<center><img src=\"assets/BN-SA653_BUYAME_GR_20170209110043.jpg\" width=\"60%\"/></center>"
   ]
  },
  {
   "cell_type": "markdown",
   "metadata": {
    "slideshow": {
     "slide_type": "subslide"
    }
   },
   "source": [
    "## Industry\n",
    "\n",
    "**This is also industry**\n",
    "\n",
    "<center><img src=\"assets/transports.jpg\" width=70%/></center>"
   ]
  },
  {
   "cell_type": "markdown",
   "metadata": {
    "slideshow": {
     "slide_type": "subslide"
    }
   },
   "source": [
    "## Industry\n",
    "\n",
    "**This is also industry**\n",
    "\n",
    "<center><img src=\"assets/res.jpg\" width=70%/></center>"
   ]
  },
  {
   "cell_type": "markdown",
   "metadata": {
    "slideshow": {
     "slide_type": "subslide"
    }
   },
   "source": [
    "## Industry\n",
    "\n",
    "**This is also industry**\n",
    "\n",
    "<center><img src=\"assets/hospital.jpg\" width=70%/></center>"
   ]
  },
  {
   "cell_type": "markdown",
   "metadata": {
    "slideshow": {
     "slide_type": "subslide"
    }
   },
   "source": [
    "## Industry\n",
    "\n",
    "> **We'll define \"industry\" as any activity that can generate _value_**"
   ]
  },
  {
   "cell_type": "markdown",
   "metadata": {},
   "source": [
    "**Therefore we'll talk about industry in _very broad sense_**\n",
    "\n",
    "* Manufacturing, logistics, automation, energy systems, automation\n",
    "* ...But also product design, healthcare, policy-making...\n",
    "\n",
    "**...And AI can help an industrial process to provide _more value_**\n",
    "\n",
    "* Whatever we our idea of \"value\" is (money, societal benefits, sustainability...)\n",
    "\n",
    "> **But how?**"
   ]
  },
  {
   "cell_type": "markdown",
   "metadata": {
    "slideshow": {
     "slide_type": "subslide"
    }
   },
   "source": [
    "## How So?\n",
    "\n",
    "**Right now, the discussion on AI is often very polarized**\n",
    "\n",
    "<center><img src=\"assets/polarized.png\" width=65%></center>"
   ]
  },
  {
   "cell_type": "markdown",
   "metadata": {
    "slideshow": {
     "slide_type": "fragment"
    }
   },
   "source": [
    "So, let's make it more grounded"
   ]
  },
  {
   "cell_type": "markdown",
   "metadata": {
    "slideshow": {
     "slide_type": "subslide"
    }
   },
   "source": [
    "## Business Analytics\n",
    "\n",
    "**Let's revive a bunch of old buzzwords:**\n",
    "\n",
    "<center><img src=\"assets/ba_ascendancy.jpg\" width=\"70%\"/></center>"
   ]
  },
  {
   "cell_type": "markdown",
   "metadata": {
    "slideshow": {
     "slide_type": "subslide"
    }
   },
   "source": [
    "## Business Analytics\n",
    "\n",
    "**In terms of how far we push automation:**\n",
    "\n",
    "<center><img src=\"assets/framework_092013.gif\" width=\"70%\"/></center>"
   ]
  },
  {
   "cell_type": "markdown",
   "metadata": {
    "slideshow": {
     "slide_type": "subslide"
    }
   },
   "source": [
    "## Order and Chaos\n",
    "\n",
    "**BA is a nice framework to characterize what AI can do for a business**\n",
    "\n",
    "...But the truth is more like this!\n",
    "\n",
    "<center><img src=\"assets/mess.jpg\" width=\"50%\"/></center>"
   ]
  },
  {
   "cell_type": "markdown",
   "metadata": {
    "slideshow": {
     "slide_type": "subslide"
    }
   },
   "source": [
    "## Order and Chaos\n",
    "\n",
    "**Industrial applications are _complicated_**\n",
    "\n",
    "* The problems are not well defined\n",
    "* Similar techniques may be applied in multiple settings\n",
    "* Classical tasks form typically only part of the whole problem\n",
    "* It is often necessary to combine problems/techniques\n",
    "* ..."
   ]
  },
  {
   "cell_type": "markdown",
   "metadata": {
    "slideshow": {
     "slide_type": "fragment"
    }
   },
   "source": [
    "> A common opinion: <br>**Just come up with a quick solution**<br>...we'll work on fixing it later"
   ]
  },
  {
   "cell_type": "markdown",
   "metadata": {
    "slideshow": {
     "slide_type": "subslide"
    }
   },
   "source": [
    "## Order and Chaos\n",
    "\n",
    "**...But this is _evil_!**\n",
    "\n",
    "<center><img src=\"assets/palpatine.jpg\" width=\"70%\"/></center>"
   ]
  },
  {
   "cell_type": "markdown",
   "metadata": {
    "slideshow": {
     "slide_type": "subslide"
    }
   },
   "source": [
    "## Order and Chaos\n",
    "\n",
    "**Specifically, it reaches a _plateau_ real quick:**\n",
    "\n",
    "Sometimes, you solve your problem and you do it fast. But more often:\n",
    "\n",
    "- You fail, and you don't understand why\n",
    "- You end up with a much messier solution than needed\n",
    "- You approach works in controlled conditions, but not in the field"
   ]
  },
  {
   "cell_type": "markdown",
   "metadata": {
    "slideshow": {
     "slide_type": "fragment"
    }
   },
   "source": [
    "**Our goal will be to bring _(some) order_ to the chaos**\n",
    "\n",
    "* We'll try to be more systematic\n",
    "* ...And to understand what is going on\n",
    "* ...So that we can make more informed choices\n",
    "\n",
    "It's not always doable, but it's a worthy goal!"
   ]
  },
  {
   "cell_type": "markdown",
   "metadata": {
    "slideshow": {
     "slide_type": "subslide"
    }
   },
   "source": [
    "## Our Plan\n",
    "\n",
    "**The main goal is starting to learn _a method_**\n",
    "\n",
    "* Formalize the problem\n",
    "* Build a baseline solution\n",
    "* Interpret the results\n",
    "* Repeat the process, introducing complexity as needed"
   ]
  },
  {
   "cell_type": "markdown",
   "metadata": {
    "slideshow": {
     "slide_type": "fragment"
    }
   },
   "source": [
    "**We'll learn _by example_**\n",
    "\n",
    "* We'll encounter multiple, simplified, use cases\n",
    "* We'll emphasize _analysis_ and _formalization_\n",
    "* We'll cover code and techniques, but never in detail\n",
    "* ...You'll be able to inspect it by yourself, or you might consult an expert"
   ]
  },
  {
   "cell_type": "markdown",
   "metadata": {
    "slideshow": {
     "slide_type": "subslide"
    }
   },
   "source": [
    "## About the Proposed Use Cases\n",
    "\n",
    "**We'll discuss several use cases together**\n",
    "\n",
    "...But you can _propose some of your own_\n",
    "\n",
    "* We can reserve time for that in every lecture\n",
    "* You don't have to have a fully fleshed analysis: a starting idea is enough\n",
    "* We won't implement anything, but we can attempt some modeling"
   ]
  },
  {
   "cell_type": "markdown",
   "metadata": {},
   "source": [
    "**A few things to keep in mind**\n",
    "\n",
    "* We are going to stick to a simple analysis for your use cases\n",
    "* We'll do this together, so be careful about commercially sensitive information\n",
    "* If something is left out due to time or sentiveness, we can discuss via email or a call\n",
    "\n",
    "...But please, favor the public format when possible"
   ]
  }
 ],
 "metadata": {
  "celltoolbar": "Slideshow",
  "kernelspec": {
   "display_name": "Python 3 (ipykernel)",
   "language": "python",
   "name": "python3"
  },
  "language_info": {
   "codemirror_mode": {
    "name": "ipython",
    "version": 3
   },
   "file_extension": ".py",
   "mimetype": "text/x-python",
   "name": "python",
   "nbconvert_exporter": "python",
   "pygments_lexer": "ipython3",
   "version": "3.11.9"
  },
  "rise": {
   "center": false,
   "transition": "fade"
  }
 },
 "nbformat": 4,
 "nbformat_minor": 4
}

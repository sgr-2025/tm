{
 "cells": [
  {
   "cell_type": "code",
   "execution_count": 1,
   "metadata": {
    "slideshow": {
     "slide_type": "skip"
    }
   },
   "outputs": [],
   "source": [
    "# ============================================================\n",
    "# Notebook setup\n",
    "# ============================================================\n",
    "\n",
    "%load_ext autoreload\n",
    "%autoreload 2\n",
    "\n",
    "# Control figure size\n",
    "figsize=(16, 4.2)\n",
    "\n",
    "from util import util_ctrp as util\n",
    "import os\n",
    "import numpy as np\n",
    "from sklearn.metrics import r2_score, mean_absolute_error\n",
    "from tensorflow.keras import regularizers\n",
    "\n",
    "# Specify the data folder\n",
    "data_folder = os.path.join('..', 'data')\n",
    "# Loading data\n",
    "data = util.load_communities_data(data_folder)\n",
    "\n",
    "# Data preprocessing\n",
    "attributes, target = data.columns[3:-1], data.columns[-1]\n",
    "attributes_nr = [a for a in attributes if a != 'race']\n",
    "nf = [a for a in attributes if a != 'race'] + [target]\n",
    "\n",
    "# Standardization and train/test split\n",
    "tr_frac = 0.8 # 80% data for training\n",
    "tr_sep = int(len(data) * tr_frac)\n",
    "tmp = data.iloc[:tr_sep]\n",
    "\n",
    "sdata = data.copy()\n",
    "sdata[nf] = (sdata[nf] - tmp[nf].mean()) / (tmp[nf].std())\n",
    "\n",
    "sdata[attributes] = sdata[attributes].astype(np.float32)\n",
    "sdata[target] = sdata[target].astype(np.float32)\n",
    "\n",
    "tr = sdata.iloc[:tr_sep]\n",
    "ts = sdata.iloc[tr_sep:]"
   ]
  },
  {
   "cell_type": "markdown",
   "metadata": {
    "slideshow": {
     "slide_type": "slide"
    }
   },
   "source": [
    "# Mitigating Discrimination<br> in Machine Learning\n",
    "\n",
    "Introducing the Problem"
   ]
  },
  {
   "cell_type": "markdown",
   "metadata": {
    "slideshow": {
     "slide_type": "subslide"
    }
   },
   "source": [
    "## Fairness Issues in Machine Learning\n",
    "\n",
    "**Say we want to estimate the risk of violent crimes in given population**\n",
    "\n",
    "<center><img src=\"assets/minority-report.jpg\" width=23%/></center>\n",
    "\n",
    "* This is obviously a very _ethically sensitive task_\n",
    "* ...Which makes it a good test case to discuss _fairness in data-driven methods_\n"
   ]
  },
  {
   "cell_type": "markdown",
   "metadata": {
    "slideshow": {
     "slide_type": "subslide"
    }
   },
   "source": [
    "## Fairness in Data-Driven Methods\n",
    "\n",
    "**Fairness in data-driven methods is _very actual topic_**\n",
    "\n",
    "* As data-driven systems become more pervasive\n",
    "* They have the potential to significantly affect social groups"
   ]
  },
  {
   "cell_type": "markdown",
   "metadata": {},
   "source": [
    "**Once you deploy an AI model, _performance is not enough_**\n",
    "\n",
    "* You might have stellar accuracy and efficient inference\n",
    "* ...And still end up causing all sort of havoc"
   ]
  },
  {
   "cell_type": "markdown",
   "metadata": {},
   "source": [
    "**This is so critical that the topic is _starting to be regulated_**\n",
    "\n",
    "* The EU has drafted [Ethics Guidelines for Trustworthy AI](https://digital-strategy.ec.europa.eu/en/library/ethics-guidelines-trustworthy-ai)\n",
    "* ...And has reached provisional agreement on a big [AI act](https://www.europarl.europa.eu/news/en/headlines/society/20230601STO93804/eu-ai-act-first-regulation-on-artificial-intelligence)\n",
    "* In some fields, models that do not comply with some rules cannot be deployed"
   ]
  },
  {
   "cell_type": "markdown",
   "metadata": {
    "slideshow": {
     "slide_type": "subslide"
    }
   },
   "source": [
    "## Inspecting the Dataset\n",
    "\n",
    "**We will run an experiment on a version of the [\"crime\" UCI dataset](https://archive.ics.uci.edu/ml/datasets/Communities+and+Crime)**"
   ]
  },
  {
   "cell_type": "code",
   "execution_count": 2,
   "metadata": {
    "scrolled": false
   },
   "outputs": [
    {
     "data": {
      "text/html": [
       "<div>\n",
       "<style scoped>\n",
       "    .dataframe tbody tr th:only-of-type {\n",
       "        vertical-align: middle;\n",
       "    }\n",
       "\n",
       "    .dataframe tbody tr th {\n",
       "        vertical-align: top;\n",
       "    }\n",
       "\n",
       "    .dataframe thead th {\n",
       "        text-align: right;\n",
       "    }\n",
       "</style>\n",
       "<table border=\"1\" class=\"dataframe\">\n",
       "  <thead>\n",
       "    <tr style=\"text-align: right;\">\n",
       "      <th></th>\n",
       "      <th>communityname</th>\n",
       "      <th>state</th>\n",
       "      <th>fold</th>\n",
       "      <th>pop</th>\n",
       "      <th>race</th>\n",
       "      <th>pct12-21</th>\n",
       "      <th>pct12-29</th>\n",
       "      <th>pct16-24</th>\n",
       "      <th>pct65up</th>\n",
       "      <th>pctUrban</th>\n",
       "      <th>...</th>\n",
       "      <th>pctForeignBorn</th>\n",
       "      <th>pctBornStateResid</th>\n",
       "      <th>pctSameHouse-5</th>\n",
       "      <th>pctSameCounty-5</th>\n",
       "      <th>pctSameState-5</th>\n",
       "      <th>landArea</th>\n",
       "      <th>popDensity</th>\n",
       "      <th>pctUsePubTrans</th>\n",
       "      <th>pctOfficDrugUnit</th>\n",
       "      <th>violentPerPop</th>\n",
       "    </tr>\n",
       "  </thead>\n",
       "  <tbody>\n",
       "    <tr>\n",
       "      <th>1008</th>\n",
       "      <td>EastLampetertownship</td>\n",
       "      <td>PA</td>\n",
       "      <td>5</td>\n",
       "      <td>11999</td>\n",
       "      <td>0</td>\n",
       "      <td>0.1203</td>\n",
       "      <td>0.2544</td>\n",
       "      <td>0.1208</td>\n",
       "      <td>0.1302</td>\n",
       "      <td>0.5776</td>\n",
       "      <td>...</td>\n",
       "      <td>0.0288</td>\n",
       "      <td>0.8132</td>\n",
       "      <td>0.6033</td>\n",
       "      <td>0.8597</td>\n",
       "      <td>0.9219</td>\n",
       "      <td>20.7</td>\n",
       "      <td>580.7</td>\n",
       "      <td>0.0103</td>\n",
       "      <td>0.0000</td>\n",
       "      <td>147.49</td>\n",
       "    </tr>\n",
       "    <tr>\n",
       "      <th>1271</th>\n",
       "      <td>EastProvidencecity</td>\n",
       "      <td>RI</td>\n",
       "      <td>6</td>\n",
       "      <td>50380</td>\n",
       "      <td>0</td>\n",
       "      <td>0.1171</td>\n",
       "      <td>0.2459</td>\n",
       "      <td>0.1159</td>\n",
       "      <td>0.1660</td>\n",
       "      <td>1.0000</td>\n",
       "      <td>...</td>\n",
       "      <td>0.1474</td>\n",
       "      <td>0.6561</td>\n",
       "      <td>0.6557</td>\n",
       "      <td>0.8929</td>\n",
       "      <td>0.9252</td>\n",
       "      <td>13.9</td>\n",
       "      <td>3629.0</td>\n",
       "      <td>0.0357</td>\n",
       "      <td>0.0000</td>\n",
       "      <td>150.88</td>\n",
       "    </tr>\n",
       "    <tr>\n",
       "      <th>1936</th>\n",
       "      <td>Betheltown</td>\n",
       "      <td>CT</td>\n",
       "      <td>9</td>\n",
       "      <td>17541</td>\n",
       "      <td>0</td>\n",
       "      <td>0.1356</td>\n",
       "      <td>0.2507</td>\n",
       "      <td>0.1138</td>\n",
       "      <td>0.0804</td>\n",
       "      <td>0.8514</td>\n",
       "      <td>...</td>\n",
       "      <td>0.0853</td>\n",
       "      <td>0.4878</td>\n",
       "      <td>0.5953</td>\n",
       "      <td>0.8485</td>\n",
       "      <td>0.8689</td>\n",
       "      <td>17.4</td>\n",
       "      <td>1008.2</td>\n",
       "      <td>0.0252</td>\n",
       "      <td>0.0000</td>\n",
       "      <td>95.47</td>\n",
       "    </tr>\n",
       "    <tr>\n",
       "      <th>1601</th>\n",
       "      <td>Crowleycity</td>\n",
       "      <td>LA</td>\n",
       "      <td>8</td>\n",
       "      <td>13983</td>\n",
       "      <td>0</td>\n",
       "      <td>0.1506</td>\n",
       "      <td>0.2587</td>\n",
       "      <td>0.1234</td>\n",
       "      <td>0.1302</td>\n",
       "      <td>0.0000</td>\n",
       "      <td>...</td>\n",
       "      <td>0.0029</td>\n",
       "      <td>0.9314</td>\n",
       "      <td>0.5898</td>\n",
       "      <td>0.9219</td>\n",
       "      <td>0.9769</td>\n",
       "      <td>4.7</td>\n",
       "      <td>2957.5</td>\n",
       "      <td>0.0098</td>\n",
       "      <td>0.0000</td>\n",
       "      <td>1029.02</td>\n",
       "    </tr>\n",
       "    <tr>\n",
       "      <th>293</th>\n",
       "      <td>Pawtucketcity</td>\n",
       "      <td>RI</td>\n",
       "      <td>2</td>\n",
       "      <td>72644</td>\n",
       "      <td>0</td>\n",
       "      <td>0.1230</td>\n",
       "      <td>0.2725</td>\n",
       "      <td>0.1276</td>\n",
       "      <td>0.1464</td>\n",
       "      <td>1.0000</td>\n",
       "      <td>...</td>\n",
       "      <td>0.1771</td>\n",
       "      <td>0.6363</td>\n",
       "      <td>0.5807</td>\n",
       "      <td>0.8805</td>\n",
       "      <td>0.8906</td>\n",
       "      <td>9.1</td>\n",
       "      <td>8027.0</td>\n",
       "      <td>0.0318</td>\n",
       "      <td>0.1103</td>\n",
       "      <td>458.28</td>\n",
       "    </tr>\n",
       "  </tbody>\n",
       "</table>\n",
       "<p>5 rows × 101 columns</p>\n",
       "</div>"
      ],
      "text/plain": [
       "             communityname state  fold    pop  race  pct12-21  pct12-29  \\\n",
       "1008  EastLampetertownship    PA     5  11999     0    0.1203    0.2544   \n",
       "1271    EastProvidencecity    RI     6  50380     0    0.1171    0.2459   \n",
       "1936            Betheltown    CT     9  17541     0    0.1356    0.2507   \n",
       "1601           Crowleycity    LA     8  13983     0    0.1506    0.2587   \n",
       "293          Pawtucketcity    RI     2  72644     0    0.1230    0.2725   \n",
       "\n",
       "      pct16-24  pct65up  pctUrban  ...  pctForeignBorn  pctBornStateResid  \\\n",
       "1008    0.1208   0.1302    0.5776  ...          0.0288             0.8132   \n",
       "1271    0.1159   0.1660    1.0000  ...          0.1474             0.6561   \n",
       "1936    0.1138   0.0804    0.8514  ...          0.0853             0.4878   \n",
       "1601    0.1234   0.1302    0.0000  ...          0.0029             0.9314   \n",
       "293     0.1276   0.1464    1.0000  ...          0.1771             0.6363   \n",
       "\n",
       "      pctSameHouse-5  pctSameCounty-5  pctSameState-5  landArea  popDensity  \\\n",
       "1008          0.6033           0.8597          0.9219      20.7       580.7   \n",
       "1271          0.6557           0.8929          0.9252      13.9      3629.0   \n",
       "1936          0.5953           0.8485          0.8689      17.4      1008.2   \n",
       "1601          0.5898           0.9219          0.9769       4.7      2957.5   \n",
       "293           0.5807           0.8805          0.8906       9.1      8027.0   \n",
       "\n",
       "      pctUsePubTrans  pctOfficDrugUnit  violentPerPop  \n",
       "1008          0.0103            0.0000         147.49  \n",
       "1271          0.0357            0.0000         150.88  \n",
       "1936          0.0252            0.0000          95.47  \n",
       "1601          0.0098            0.0000        1029.02  \n",
       "293           0.0318            0.1103         458.28  \n",
       "\n",
       "[5 rows x 101 columns]"
      ]
     },
     "metadata": {},
     "output_type": "display_data"
    },
    {
     "name": "stdout",
     "output_type": "stream",
     "text": [
      "Number of rows: 1993\n"
     ]
    }
   ],
   "source": [
    "display(data.head())\n",
    "print(f'Number of rows: {len(data)}')"
   ]
  },
  {
   "cell_type": "markdown",
   "metadata": {},
   "source": [
    "* The target is \"violentPerPop\" (number of violent offenders per 100K people)\n",
    "* All attributes are continuous, except for \"race\""
   ]
  },
  {
   "cell_type": "markdown",
   "metadata": {
    "slideshow": {
     "slide_type": "subslide"
    }
   },
   "source": [
    "## A First Attempt at Mitigating Discrimination\n",
    "\n",
    "**The \"race\" attribute seems like one that could easily lead to discrimination**\n",
    "\n",
    "...So we'll attempt to _keep it out_"
   ]
  },
  {
   "cell_type": "code",
   "execution_count": 4,
   "metadata": {},
   "outputs": [
    {
     "data": {
      "text/html": [
       "<div>\n",
       "<style scoped>\n",
       "    .dataframe tbody tr th:only-of-type {\n",
       "        vertical-align: middle;\n",
       "    }\n",
       "\n",
       "    .dataframe tbody tr th {\n",
       "        vertical-align: top;\n",
       "    }\n",
       "\n",
       "    .dataframe thead th {\n",
       "        text-align: right;\n",
       "    }\n",
       "</style>\n",
       "<table border=\"1\" class=\"dataframe\">\n",
       "  <thead>\n",
       "    <tr style=\"text-align: right;\">\n",
       "      <th></th>\n",
       "      <th>pop</th>\n",
       "      <th>pct12-21</th>\n",
       "      <th>pct12-29</th>\n",
       "      <th>pct16-24</th>\n",
       "      <th>pct65up</th>\n",
       "      <th>pctUrban</th>\n",
       "      <th>medIncome</th>\n",
       "      <th>pctWwage</th>\n",
       "      <th>pctWfarm</th>\n",
       "      <th>pctWdiv</th>\n",
       "      <th>...</th>\n",
       "      <th>persHomeless</th>\n",
       "      <th>pctForeignBorn</th>\n",
       "      <th>pctBornStateResid</th>\n",
       "      <th>pctSameHouse-5</th>\n",
       "      <th>pctSameCounty-5</th>\n",
       "      <th>pctSameState-5</th>\n",
       "      <th>landArea</th>\n",
       "      <th>popDensity</th>\n",
       "      <th>pctUsePubTrans</th>\n",
       "      <th>pctOfficDrugUnit</th>\n",
       "    </tr>\n",
       "  </thead>\n",
       "  <tbody>\n",
       "    <tr>\n",
       "      <th>1008</th>\n",
       "      <td>11999</td>\n",
       "      <td>0.1203</td>\n",
       "      <td>0.2544</td>\n",
       "      <td>0.1208</td>\n",
       "      <td>0.1302</td>\n",
       "      <td>0.5776</td>\n",
       "      <td>34720</td>\n",
       "      <td>0.8275</td>\n",
       "      <td>0.0376</td>\n",
       "      <td>0.5482</td>\n",
       "      <td>...</td>\n",
       "      <td>0.000000</td>\n",
       "      <td>0.0288</td>\n",
       "      <td>0.8132</td>\n",
       "      <td>0.6033</td>\n",
       "      <td>0.8597</td>\n",
       "      <td>0.9219</td>\n",
       "      <td>20.7</td>\n",
       "      <td>580.7</td>\n",
       "      <td>0.0103</td>\n",
       "      <td>0.0000</td>\n",
       "    </tr>\n",
       "    <tr>\n",
       "      <th>1271</th>\n",
       "      <td>50380</td>\n",
       "      <td>0.1171</td>\n",
       "      <td>0.2459</td>\n",
       "      <td>0.1159</td>\n",
       "      <td>0.1660</td>\n",
       "      <td>1.0000</td>\n",
       "      <td>31007</td>\n",
       "      <td>0.7400</td>\n",
       "      <td>0.0059</td>\n",
       "      <td>0.4359</td>\n",
       "      <td>...</td>\n",
       "      <td>0.000000</td>\n",
       "      <td>0.1474</td>\n",
       "      <td>0.6561</td>\n",
       "      <td>0.6557</td>\n",
       "      <td>0.8929</td>\n",
       "      <td>0.9252</td>\n",
       "      <td>13.9</td>\n",
       "      <td>3629.0</td>\n",
       "      <td>0.0357</td>\n",
       "      <td>0.0000</td>\n",
       "    </tr>\n",
       "    <tr>\n",
       "      <th>1936</th>\n",
       "      <td>17541</td>\n",
       "      <td>0.1356</td>\n",
       "      <td>0.2507</td>\n",
       "      <td>0.1138</td>\n",
       "      <td>0.0804</td>\n",
       "      <td>0.8514</td>\n",
       "      <td>53761</td>\n",
       "      <td>0.8562</td>\n",
       "      <td>0.0050</td>\n",
       "      <td>0.5863</td>\n",
       "      <td>...</td>\n",
       "      <td>0.000000</td>\n",
       "      <td>0.0853</td>\n",
       "      <td>0.4878</td>\n",
       "      <td>0.5953</td>\n",
       "      <td>0.8485</td>\n",
       "      <td>0.8689</td>\n",
       "      <td>17.4</td>\n",
       "      <td>1008.2</td>\n",
       "      <td>0.0252</td>\n",
       "      <td>0.0000</td>\n",
       "    </tr>\n",
       "    <tr>\n",
       "      <th>1601</th>\n",
       "      <td>13983</td>\n",
       "      <td>0.1506</td>\n",
       "      <td>0.2587</td>\n",
       "      <td>0.1234</td>\n",
       "      <td>0.1302</td>\n",
       "      <td>0.0000</td>\n",
       "      <td>13804</td>\n",
       "      <td>0.6245</td>\n",
       "      <td>0.0242</td>\n",
       "      <td>0.2248</td>\n",
       "      <td>...</td>\n",
       "      <td>0.000000</td>\n",
       "      <td>0.0029</td>\n",
       "      <td>0.9314</td>\n",
       "      <td>0.5898</td>\n",
       "      <td>0.9219</td>\n",
       "      <td>0.9769</td>\n",
       "      <td>4.7</td>\n",
       "      <td>2957.5</td>\n",
       "      <td>0.0098</td>\n",
       "      <td>0.0000</td>\n",
       "    </tr>\n",
       "    <tr>\n",
       "      <th>293</th>\n",
       "      <td>72644</td>\n",
       "      <td>0.1230</td>\n",
       "      <td>0.2725</td>\n",
       "      <td>0.1276</td>\n",
       "      <td>0.1464</td>\n",
       "      <td>1.0000</td>\n",
       "      <td>26541</td>\n",
       "      <td>0.7526</td>\n",
       "      <td>0.0038</td>\n",
       "      <td>0.3694</td>\n",
       "      <td>...</td>\n",
       "      <td>1.376576</td>\n",
       "      <td>0.1771</td>\n",
       "      <td>0.6363</td>\n",
       "      <td>0.5807</td>\n",
       "      <td>0.8805</td>\n",
       "      <td>0.8906</td>\n",
       "      <td>9.1</td>\n",
       "      <td>8027.0</td>\n",
       "      <td>0.0318</td>\n",
       "      <td>0.1103</td>\n",
       "    </tr>\n",
       "  </tbody>\n",
       "</table>\n",
       "<p>5 rows × 96 columns</p>\n",
       "</div>"
      ],
      "text/plain": [
       "        pop  pct12-21  pct12-29  pct16-24  pct65up  pctUrban  medIncome  \\\n",
       "1008  11999    0.1203    0.2544    0.1208   0.1302    0.5776      34720   \n",
       "1271  50380    0.1171    0.2459    0.1159   0.1660    1.0000      31007   \n",
       "1936  17541    0.1356    0.2507    0.1138   0.0804    0.8514      53761   \n",
       "1601  13983    0.1506    0.2587    0.1234   0.1302    0.0000      13804   \n",
       "293   72644    0.1230    0.2725    0.1276   0.1464    1.0000      26541   \n",
       "\n",
       "      pctWwage  pctWfarm  pctWdiv  ...  persHomeless  pctForeignBorn  \\\n",
       "1008    0.8275    0.0376   0.5482  ...      0.000000          0.0288   \n",
       "1271    0.7400    0.0059   0.4359  ...      0.000000          0.1474   \n",
       "1936    0.8562    0.0050   0.5863  ...      0.000000          0.0853   \n",
       "1601    0.6245    0.0242   0.2248  ...      0.000000          0.0029   \n",
       "293     0.7526    0.0038   0.3694  ...      1.376576          0.1771   \n",
       "\n",
       "      pctBornStateResid  pctSameHouse-5  pctSameCounty-5  pctSameState-5  \\\n",
       "1008             0.8132          0.6033           0.8597          0.9219   \n",
       "1271             0.6561          0.6557           0.8929          0.9252   \n",
       "1936             0.4878          0.5953           0.8485          0.8689   \n",
       "1601             0.9314          0.5898           0.9219          0.9769   \n",
       "293              0.6363          0.5807           0.8805          0.8906   \n",
       "\n",
       "      landArea  popDensity  pctUsePubTrans  pctOfficDrugUnit  \n",
       "1008      20.7       580.7          0.0103            0.0000  \n",
       "1271      13.9      3629.0          0.0357            0.0000  \n",
       "1936      17.4      1008.2          0.0252            0.0000  \n",
       "1601       4.7      2957.5          0.0098            0.0000  \n",
       "293        9.1      8027.0          0.0318            0.1103  \n",
       "\n",
       "[5 rows x 96 columns]"
      ]
     },
     "execution_count": 4,
     "metadata": {},
     "output_type": "execute_result"
    }
   ],
   "source": [
    "data[attributes_nr].head()"
   ]
  },
  {
   "cell_type": "markdown",
   "metadata": {},
   "source": [
    "* This is one of the first solutions that typically come to mind to mitigate unwanted bias\n",
    "* We've also removed some columns that are not useful as model inputs/outputs"
   ]
  },
  {
   "cell_type": "markdown",
   "metadata": {
    "slideshow": {
     "slide_type": "subslide"
    }
   },
   "source": [
    "## Baseline\n",
    "\n",
    "**Let's establish a baseline by tackling the task via Linear Regression**"
   ]
  },
  {
   "cell_type": "code",
   "execution_count": 5,
   "metadata": {},
   "outputs": [
    {
     "data": {
      "image/png": "[encoded data removed]",
      "text/plain": [
       "<Figure size 1600x420 with 1 Axes>"
      ]
     },
     "metadata": {},
     "output_type": "display_data"
    },
    {
     "name": "stdout",
     "output_type": "stream",
     "text": [
      "Final loss: 0.3255 (training), 0.3712 (validation)\n"
     ]
    }
   ],
   "source": [
    "nn = util.build_nn_model(input_shape=(len(attributes_nr),), output_shape=1, hidden=[], output_activation='linear')\n",
    "history = util.train_nn_model(nn, tr[attributes_nr], tr[target], loss='mse', batch_size=32, epochs=400, verbose=0, validation_split=0.2)\n",
    "util.plot_training_history(history, figsize=figsize)"
   ]
  },
  {
   "cell_type": "markdown",
   "metadata": {
    "slideshow": {
     "slide_type": "subslide"
    }
   },
   "source": [
    "## Baseline Evaluation\n",
    "\n",
    "**...And let's check the results**"
   ]
  },
  {
   "cell_type": "code",
   "execution_count": 6,
   "metadata": {},
   "outputs": [
    {
     "name": "stdout",
     "output_type": "stream",
     "text": [
      "R2 score: 0.66 (training), 0.60 (test)\n",
      "MAE: 0.39 (training), 0.45 (test)\n"
     ]
    }
   ],
   "source": [
    "tr_pred = nn.predict(tr[attributes_nr], verbose=0)\n",
    "r2_tr, mae_tr = r2_score(tr[target], tr_pred), mean_absolute_error(tr[target], tr_pred)\n",
    "ts_pred = nn.predict(ts[attributes_nr], verbose=0)\n",
    "r2_ts, mae_ts = r2_score(ts[target], ts_pred), mean_absolute_error(ts[target], ts_pred)\n",
    "print(f'R2 score: {r2_tr:.2f} (training), {r2_ts:.2f} (test)')\n",
    "print(f'MAE: {mae_tr:.2f} (training), {mae_ts:.2f} (test)')"
   ]
  },
  {
   "cell_type": "markdown",
   "metadata": {},
   "source": [
    "* Some improvements (not much) can be obtained with a Deeper model"
   ]
  },
  {
   "cell_type": "markdown",
   "metadata": {
    "slideshow": {
     "slide_type": "fragment"
    }
   },
   "source": [
    "> Without the \"race\" attribute, we might think that no discrminiation can occur<br>**....But is it true?**"
   ]
  },
  {
   "cell_type": "markdown",
   "metadata": {
    "slideshow": {
     "slide_type": "subslide"
    }
   },
   "source": [
    "## Disparate Treatment\n",
    "\n",
    "**Indeed, our model _treats the groups differently_**"
   ]
  },
  {
   "cell_type": "code",
   "execution_count": 7,
   "metadata": {},
   "outputs": [
    {
     "data": {
      "image/png": "[encoded data removed]",
      "text/plain": [
       "<Figure size 1600x420 with 1 Axes>"
      ]
     },
     "metadata": {},
     "output_type": "display_data"
    }
   ],
   "source": [
    "protected={'race': (0, 1)}\n",
    "util.plot_pred_by_protected(tr, tr_pred, protected={'race': (0, 1)}, figsize=figsize)"
   ]
  },
  {
   "cell_type": "markdown",
   "metadata": {
    "slideshow": {
     "slide_type": "-"
    }
   },
   "source": [
    "* Here we inspecte the distribution of predictions for the \"race = 0\" and \"race =1\" groups\n",
    "* ...And the two are indeed significantly different"
   ]
  },
  {
   "cell_type": "markdown",
   "metadata": {
    "slideshow": {
     "slide_type": "slide"
    }
   },
   "source": [
    "# Mitigating Discrimination in Machine Learning\n",
    "\n",
    "Fairness Metrics"
   ]
  },
  {
   "cell_type": "markdown",
   "metadata": {
    "slideshow": {
     "slide_type": "subslide"
    }
   },
   "source": [
    "## Fairness Metrics\n",
    "\n",
    "**Evaluating fairness is complicated**\n",
    "\n",
    "* Ethical topics are almost always quite nuanced\n",
    "* ...And they do not lend themselves to clear, unambiguous definitions\n",
    "\n",
    "**From an algorithmic purpose, however...**\n",
    "\n",
    "...One of the most manageable approach consists in relying on a _fairness metric_\n",
    "\n",
    "* Even if any discrimination metric may indeed be questionable\n",
    "* ...Measurable quantities can at least be manipulated with Maths\n",
    "\n",
    "**[Several fairness metrics](https://dl.acm.org/doi/abs/10.1145/3457607?casa_token=7K5cttUU8CMAAAAA:eOTbdtdJRlHvrexenK9WGomYr4EZJ4I5xEUAQiyxmNAwVzAcnfDnjzBXt_D2aU4vfLRNM7VPC-g) have been proposed**\n",
    "\n",
    "* Since defining a single, catch-all, metric seems unrealistic\n",
    "* Having the ability to choose among multiple options is a good thing\n",
    "\n",
    "Here we will focus on the idea of _disparate treatment_"
   ]
  },
  {
   "cell_type": "markdown",
   "metadata": {
    "slideshow": {
     "slide_type": "subslide"
    }
   },
   "source": [
    "## The DIDI Indicator\n",
    "\n",
    "**In particular, we will use the indicatror from [this paper](https://www.aaai.org/ojs/index.php/AAAI/article/download/3943/3821)**\n",
    "\n",
    "* Given a set of categorical _protected attribute (indexes) $J_p$_\n",
    "* ...The Disparate Impact Discrimination Index (for regression) is given by:\n",
    "\n",
    "$$\n",
    "\\text{DIDI}_r = \\sum_{j \\in J_p} \\sum_{v \\in D_{j}} \\left|\\frac{1}{m} \\sum_{i=1}^m y_i - \\frac{1}{|I_{j,v}|} \\sum_{i \\in I_{j,v}} y_{i}\\right|\n",
    "$$\n",
    "\n",
    "* Where $D_j$ is the domain of attribute $j$\n",
    "* ...And $I_{j,v}$ is the set of example such that attribute $j$ has value $v$\n",
    "\n",
    "\n"
   ]
  },
  {
   "cell_type": "markdown",
   "metadata": {},
   "source": [
    "**The DIDI is a measure of discrepancy w.r.t. the average prediction**\n",
    "\n",
    "* It is obtained by computing the average prediction for every protected group\n",
    "* ...And summing up their discrepancy w.r.t. the global average"
   ]
  },
  {
   "cell_type": "markdown",
   "metadata": {
    "slideshow": {
     "slide_type": "subslide"
    }
   },
   "source": [
    "## Using the DIDI to Evaluate Our Model\n",
    "\n",
    "**For our Linear Regression model, we get**"
   ]
  },
  {
   "cell_type": "code",
   "execution_count": 8,
   "metadata": {},
   "outputs": [
    {
     "name": "stdout",
     "output_type": "stream",
     "text": [
      "DIDI: 2.00 (training), 2.13 (test)\n"
     ]
    }
   ],
   "source": [
    "tr_DIDI = util.DIDI_r(tr, tr_pred, protected)\n",
    "ts_DIDI = util.DIDI_r(ts, ts_pred, protected)\n",
    "print(f'DIDI: {tr_DIDI:.2f} (training), {ts_DIDI:.2f} (test)')"
   ]
  },
  {
   "cell_type": "markdown",
   "metadata": {},
   "source": [
    "* We wish to _improve over this baseline_, which is not an easy task:\n",
    "* Discrimination is a form of bias in the training set, but bias is not necessarily bad"
   ]
  },
  {
   "cell_type": "markdown",
   "metadata": {},
   "source": [
    "**In fact, ML works _because of bias_**\n",
    "\n",
    "...I.e. because the training distribution contains information about the test one\n",
    "\n",
    "* Improving fairness requires to _get rid of the unwanted part_ of this bias\n",
    "* ...Which will likely lead to some _loss of accuracy_ (hopefully not too much)"
   ]
  },
  {
   "cell_type": "markdown",
   "metadata": {
    "slideshow": {
     "slide_type": "slide"
    }
   },
   "source": [
    "# Mitigating Discrimination in Machine Learning\n",
    "\n",
    "Fairness Constraints"
   ]
  },
  {
   "cell_type": "markdown",
   "metadata": {
    "slideshow": {
     "slide_type": "subslide"
    }
   },
   "source": [
    "## Fairness as a Constraint\n",
    "\n",
    "**Let's recap our goals:**\n",
    "\n",
    "We want to train an accurate regressor ($L = $ loss function):\n",
    "\n",
    "$$\n",
    "\\operatorname{argmin}_{\\theta} \\mathbb{E}_{x, y \\sim P(X, Y)}\\left[ L(y, \\hat{f}(x, \\theta)) \\right]\n",
    "$$\n",
    "\n",
    "We want to measure fairness via the DIDI:\n",
    "\n",
    "$$\n",
    "\\operatorname{DIDI}(y) = \\sum_{j \\in J_p} \\sum_{v \\in D_{j}} \\left|\\frac{1}{m} \\sum_{i=1}^m y_i - \\frac{1}{|I_{j,v}|} \\sum_{i \\in I_{j,v}} y_{i}\\right|\n",
    "$$\n",
    "\n",
    "...And we want the DIDI to be low, e.g.:\n",
    "\n",
    "$$\n",
    "\\operatorname{DIDI}(\\hat{f}(x, \\theta)) \\leq \\varepsilon\n",
    "$$"
   ]
  },
  {
   "cell_type": "markdown",
   "metadata": {
    "slideshow": {
     "slide_type": "subslide"
    }
   },
   "source": [
    "## Fairness as a Constraint\n",
    "\n",
    "**We can use this information to re-state the training problem**\n",
    "\n",
    "$$\n",
    "\\operatorname{argmin}_{\\theta} \\left\\{ \\mathbb{E}_{x, y}\\left[ L(y, \\hat{f}(x, \\theta)) \\right] \\mid \\operatorname{DIDI}(\\hat{f}(x, \\theta)) \\leq \\varepsilon \\right\\}\n",
    "$$\n",
    "\n",
    "* Training is now a _constrained optimization_ problem\n",
    "* We require the DIDI _for ML output_ to be within acceptable levels\n",
    "\n",
    "After training, the constraint will be _distilled_ in the model parameters"
   ]
  },
  {
   "cell_type": "markdown",
   "metadata": {},
   "source": [
    "**We are requiring constraint satisfaction _on the training set_**\n",
    "\n",
    "...Meaning that we'll have _no satisfaction guarantee on unseen examples_\n",
    "\n",
    "* This is suboptimal, but doing better is very difficult\n",
    "* ...Since our constraint is defined (conceptually) _on the whole distribution_\n",
    "\n",
    "We'll trust the model to generalize well enough"
   ]
  },
  {
   "cell_type": "markdown",
   "metadata": {
    "slideshow": {
     "slide_type": "subslide"
    }
   },
   "source": [
    "## Constrained Machine Learning\n",
    "\n",
    "**There's more than one way to account for constraints while training**\n",
    "\n",
    "* The one we'll focus on is based on the idea to add a _constrained based penalty_\n",
    "* In particular, we will modify our training problem as follows:\n",
    "\n",
    "$$\n",
    "\\operatorname{argmin}_{\\theta} \\mathbb{E}_{x, y}\\left[ L(y, \\hat{f}(x, \\theta))\\right] +\\lambda \\max\\left(0, \\operatorname{DIDI}(\\hat{f}(x, \\theta)) - \\varepsilon \\right)\n",
    "$$"
   ]
  },
  {
   "cell_type": "markdown",
   "metadata": {},
   "source": [
    "**Without going into too much detail, the term $\\max\\left(0, \\operatorname{DIDI}(\\hat{f}(x, \\theta)) - \\varepsilon \\right)$:**\n",
    "\n",
    "* Is equal to 0 if the constraint $\\operatorname{DIDI}(\\hat{f}(x, \\theta)) \\leq \\varepsilon$ is satisfied\n",
    "* Is $> 0$ otherwise, meaning it acts as a _penalty_ in this case\n",
    "* The penalty is scaled by a factor $\\lambda$\n",
    "* ...which can be increased until the constraint is satisfied\n",
    "\n",
    "There are a lot of caveats, but will skip them"
   ]
  },
  {
   "cell_type": "markdown",
   "metadata": {
    "slideshow": {
     "slide_type": "subslide"
    }
   },
   "source": [
    "## Building the Constrained Model\n",
    "\n",
    "**We can build a constrained version of our predictor**"
   ]
  },
  {
   "cell_type": "code",
   "execution_count": 9,
   "metadata": {},
   "outputs": [],
   "source": [
    "protected = {'race': (0, 1)}\n",
    "didi_thr = 1.0\n",
    "base_pred = util.build_nn_model(input_shape=(len(attributes),), output_shape=1, hidden=[])\n",
    "nn = util.LagDualDIDIModel(base_pred, attributes, protected, thr=didi_thr)"
   ]
  },
  {
   "cell_type": "markdown",
   "metadata": {},
   "source": [
    "**We will try to roughly halve the \"natural\" DIDI of the model**\n",
    "\n",
    "* Since for our baseline we have $\\operatorname{DIDI}(y) \\simeq 2$\n",
    "* ...We decided to pick $\\varepsilon = 1$"
   ]
  },
  {
   "cell_type": "markdown",
   "metadata": {},
   "source": [
    "**Even if we are focusing here on a DIDI constraint**\n",
    "\n",
    "* The approach can be employed for _other fairness metrics_\n",
    "* ...And also for constraints not related to fairness (e.g. domain knowledge)"
   ]
  },
  {
   "cell_type": "markdown",
   "metadata": {
    "slideshow": {
     "slide_type": "subslide"
    }
   },
   "source": [
    "## Training the Constrained Model\n",
    "\n",
    "**We can train the constrained model more or less as usual**"
   ]
  },
  {
   "cell_type": "code",
   "execution_count": 10,
   "metadata": {},
   "outputs": [
    {
     "data": {
      "image/png": "[encoded data removed]",
      "text/plain": [
       "<Figure size 1600x420 with 1 Axes>"
      ]
     },
     "metadata": {},
     "output_type": "display_data"
    },
    {
     "name": "stdout",
     "output_type": "stream",
     "text": [
      "Final loss: 0.3699 (training)\n"
     ]
    }
   ],
   "source": [
    "base_pred = util.build_nn_model(input_shape=(len(attributes),), output_shape=1, hidden=[])\n",
    "nn = util.LagDualDIDIModel(base_pred, attributes, protected, thr=didi_thr)\n",
    "history = util.train_nn_model(nn, tr[attributes], tr[target], loss='mse', validation_split=0., epochs=2000, batch_size=len(tr))\n",
    "util.plot_training_history(history, figsize=figsize)"
   ]
  },
  {
   "cell_type": "markdown",
   "metadata": {
    "slideshow": {
     "slide_type": "subslide"
    }
   },
   "source": [
    "## Constrained Model Evaluation\n",
    "\n",
    "**Let's check both the prediction quality and the DIDI**"
   ]
  },
  {
   "cell_type": "code",
   "execution_count": 11,
   "metadata": {},
   "outputs": [
    {
     "name": "stdout",
     "output_type": "stream",
     "text": [
      "R2 score: 0.63 (training), 0.55 (test)\n",
      "DIDI: 1.00 (training), 1.09 (test)\n"
     ]
    }
   ],
   "source": [
    "tr_pred = nn.predict(tr[attributes], verbose=0)\n",
    "r2_tr = r2_score(tr[target], tr_pred)\n",
    "ts_pred = nn.predict(ts[attributes], verbose=0)\n",
    "r2_ts = r2_score(ts[target], ts_pred)\n",
    "tr_DIDI = util.DIDI_r(tr, tr_pred, protected)\n",
    "ts_DIDI = util.DIDI_r(ts, ts_pred, protected)\n",
    "\n",
    "print(f'R2 score: {r2_tr:.2f} (training), {r2_ts:.2f} (test)')\n",
    "print(f'DIDI: {tr_DIDI:.2f} (training), {ts_DIDI:.2f} (test)')"
   ]
  },
  {
   "cell_type": "markdown",
   "metadata": {
    "slideshow": {
     "slide_type": "-"
    }
   },
   "source": [
    "**We lost some accuracy, but the DIDI has the desired value on the training data**\n",
    "\n",
    "* On the test data, the value is a bit larger than we wished\n",
    "* This happened since we enforced the constraint _only on the training data_"
   ]
  },
  {
   "cell_type": "markdown",
   "metadata": {
    "slideshow": {
     "slide_type": "subslide"
    }
   },
   "source": [
    "## Some Comments\n",
    "\n",
    "**This is not the only approach for constrained ML**\n",
    "\n",
    "* There approaches based on projection, pre-processing, iterative projection...\n",
    "* ...And in some cases you can enforce constraints through the architecture itself"
   ]
  },
  {
   "cell_type": "markdown",
   "metadata": {},
   "source": [
    "**...But it is simple and flexible**\n",
    "\n",
    "* You just need your constraint to be differentiable\n",
    "* ...And some good will to tweak the implementation"
   ]
  },
  {
   "cell_type": "markdown",
   "metadata": {},
   "source": [
    "**The approach can be used also for _symbolic knowledge injection_**\n",
    "\n",
    "* Perhaps domain experts can provide you some intuitive rule of thumbs\n",
    "* You model those as constraints and take them into account at training time\n",
    "* Just be careful with the weights, as in this case feasibility is not the goal"
   ]
  }
 ],
 "metadata": {
  "celltoolbar": "Slideshow",
  "kernelspec": {
   "display_name": "Python 3 (ipykernel)",
   "language": "python",
   "name": "python3"
  },
  "language_info": {
   "codemirror_mode": {
    "name": "ipython",
    "version": 3
   },
   "file_extension": ".py",
   "mimetype": "text/x-python",
   "name": "python",
   "nbconvert_exporter": "python",
   "pygments_lexer": "ipython3",
   "version": "3.11.9"
  },
  "rise": {
   "center": false,
   "enable_chalkboard": true,
   "transition": "fade"
  }
 },
 "nbformat": 4,
 "nbformat_minor": 4
}
